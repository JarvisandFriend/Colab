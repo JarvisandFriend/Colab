{
 "cells": [
  {
   "cell_type": "code",
   "execution_count": null,
   "id": "94577115",
   "metadata": {
    "vscode": {
     "languageId": "plaintext"
    }
   },
   "outputs": [],
   "source": [
    "import torch \n",
    "if torch.cuda.is_available:\n",
    " print(\"True\")\n",
    "else:\n",
    " print(\"false\")"
   ]
  }
 ],
 "metadata": {
  "language_info": {
   "name": "python"
  }
 },
 "nbformat": 4,
 "nbformat_minor": 5
}
